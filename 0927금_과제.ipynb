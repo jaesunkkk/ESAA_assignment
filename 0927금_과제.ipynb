{
  "nbformat": 4,
  "nbformat_minor": 0,
  "metadata": {
    "colab": {
      "name": "0927금 과제.ipynb",
      "provenance": [],
      "toc_visible": true,
      "authorship_tag": "ABX9TyN4fAM/E2fmjEQDOsYQ4nGc",
      "include_colab_link": true
    },
    "kernelspec": {
      "name": "python3",
      "display_name": "Python 3"
    },
    "language_info": {
      "name": "python"
    }
  },
  "cells": [
    {
      "cell_type": "markdown",
      "metadata": {
        "id": "view-in-github",
        "colab_type": "text"
      },
      "source": [
        "<a href=\"https://colab.research.google.com/github/jaesunkkk/esaa_assignment/blob/main/0927%EA%B8%88_%EA%B3%BC%EC%A0%9C.ipynb\" target=\"_parent\"><img src=\"https://colab.research.google.com/assets/colab-badge.svg\" alt=\"Open In Colab\"/></a>"
      ]
    },
    {
      "cell_type": "code",
      "metadata": {
        "colab": {
          "base_uri": "https://localhost:8080/"
        },
        "id": "CUwt-d2aL8T1",
        "outputId": "d9450a98-3ab6-4573-a9c2-1c00990c932f"
      },
      "source": [
        "from google.colab import drive\n",
        "drive.mount('/gdrive', force_remount=True)"
      ],
      "execution_count": null,
      "outputs": [
        {
          "output_type": "stream",
          "name": "stdout",
          "text": [
            "Mounted at /gdrive\n"
          ]
        }
      ]
    },
    {
      "cell_type": "code",
      "metadata": {
        "colab": {
          "base_uri": "https://localhost:8080/",
          "height": 204
        },
        "id": "ssxN3R3JvlRe",
        "outputId": "8a98d747-7534-49d8-cdb6-37c1b839ff1f"
      },
      "source": [
        "\n",
        "import pandas as pd\n",
        "import glob, os\n",
        "\n",
        "path = r'/gdrive/MyDrive/essa/topics'\n",
        "\n",
        "# path로 지정한 디렉터리 밑에 있는 모든 .data파일의 파일명을 리스트로 취함\n",
        "all_files = glob.glob(os.path.join(path, \"*.data\"))\n",
        "filename_list = []\n",
        "opinion_text = []\n",
        "\n",
        "# 개별 파일의 파일명을 filename_ist로 취합,\n",
        "# 개별 파일의 내용은 DataFrame 로딩 후 다시 string으로 변환해 opinion_text list로 취합\n",
        "for file_ in all_files:\n",
        "    # 개별 파일을 읽어서 DataFrame으로 생성\n",
        "    df = pd.read_table(file_, index_col = None, header = 0, encoding = 'latin1')\n",
        "    \n",
        "    # 절대 경로로 주어진 파일명을 가공. 리눅스에서 수행할 떄는 다음 \\\\를 /로 변경\n",
        "    # 맨 마지막 .data 확장자도 제거\n",
        "    filename_ = file_.split('\\\\')[-1]\n",
        "    filename = filename_.split('.')[0]\n",
        "    \n",
        "    # 파일명 list와 파일 내용 list에 파일명과 파일 내용을 추가\n",
        "    filename_list.append(filename)\n",
        "    opinion_text.append(df.to_string())\n",
        "    \n",
        "# 파일명 list와 파일 내용 list 객체를 DataFrame으로 생성\n",
        "document_df = pd.DataFrame({'filename':filename_list, 'opinion_text':opinion_text})\n",
        "document_df.head()"
      ],
      "execution_count": null,
      "outputs": [
        {
          "output_type": "execute_result",
          "data": {
            "text/html": [
              "<div>\n",
              "<style scoped>\n",
              "    .dataframe tbody tr th:only-of-type {\n",
              "        vertical-align: middle;\n",
              "    }\n",
              "\n",
              "    .dataframe tbody tr th {\n",
              "        vertical-align: top;\n",
              "    }\n",
              "\n",
              "    .dataframe thead th {\n",
              "        text-align: right;\n",
              "    }\n",
              "</style>\n",
              "<table border=\"1\" class=\"dataframe\">\n",
              "  <thead>\n",
              "    <tr style=\"text-align: right;\">\n",
              "      <th></th>\n",
              "      <th>filename</th>\n",
              "      <th>opinion_text</th>\n",
              "    </tr>\n",
              "  </thead>\n",
              "  <tbody>\n",
              "    <tr>\n",
              "      <th>0</th>\n",
              "      <td>/gdrive/MyDrive/essa/topics/battery-life_ipod_...</td>\n",
              "      <td>...</td>\n",
              "    </tr>\n",
              "    <tr>\n",
              "      <th>1</th>\n",
              "      <td>/gdrive/MyDrive/essa/topics/speed_garmin_nuvi_...</td>\n",
              "      <td>...</td>\n",
              "    </tr>\n",
              "    <tr>\n",
              "      <th>2</th>\n",
              "      <td>/gdrive/MyDrive/essa/topics/accuracy_garmin_nu...</td>\n",
              "      <td>...</td>\n",
              "    </tr>\n",
              "    <tr>\n",
              "      <th>3</th>\n",
              "      <td>/gdrive/MyDrive/essa/topics/size_asus_netbook_...</td>\n",
              "      <td>...</td>\n",
              "    </tr>\n",
              "    <tr>\n",
              "      <th>4</th>\n",
              "      <td>/gdrive/MyDrive/essa/topics/keyboard_netbook_1...</td>\n",
              "      <td>...</td>\n",
              "    </tr>\n",
              "  </tbody>\n",
              "</table>\n",
              "</div>"
            ],
            "text/plain": [
              "                                            filename                                       opinion_text\n",
              "0  /gdrive/MyDrive/essa/topics/battery-life_ipod_...                                                ...\n",
              "1  /gdrive/MyDrive/essa/topics/speed_garmin_nuvi_...                                                ...\n",
              "2  /gdrive/MyDrive/essa/topics/accuracy_garmin_nu...                                                ...\n",
              "3  /gdrive/MyDrive/essa/topics/size_asus_netbook_...                                                ...\n",
              "4  /gdrive/MyDrive/essa/topics/keyboard_netbook_1...                                                ..."
            ]
          },
          "metadata": {},
          "execution_count": 6
        }
      ]
    },
    {
      "cell_type": "code",
      "metadata": {
        "id": "2jKVkUuIvnRF"
      },
      "source": [
        "from nltk.stem import WordNetLemmatizer\n",
        "import nltk\n",
        "import string\n",
        "\n",
        "remove_punct_dict = dict((ord(punct), None) for punct in string.punctuation)\n",
        "lemmar = WordNetLemmatizer()\n",
        "\n",
        "def LemTokens(tokens):\n",
        "    return [lemmar.lemmatize(token) for token in tokens]\n",
        "\n",
        "def LemNormalize(text):\n",
        "    return LemTokens(nltk.word_tokenize(text.lower().translate(remove_punct_dict)))"
      ],
      "execution_count": null,
      "outputs": []
    },
    {
      "cell_type": "code",
      "metadata": {
        "colab": {
          "base_uri": "https://localhost:8080/"
        },
        "id": "fxmVK5vONa43",
        "outputId": "5c976f43-08bc-4ebf-c16c-4c7d64730188"
      },
      "source": [
        "nltk.download('punkt')\n",
        "nltk.download('wordnet')"
      ],
      "execution_count": null,
      "outputs": [
        {
          "output_type": "stream",
          "name": "stdout",
          "text": [
            "[nltk_data] Downloading package punkt to /root/nltk_data...\n",
            "[nltk_data]   Unzipping tokenizers/punkt.zip.\n",
            "[nltk_data] Downloading package wordnet to /root/nltk_data...\n",
            "[nltk_data]   Unzipping corpora/wordnet.zip.\n"
          ]
        },
        {
          "output_type": "execute_result",
          "data": {
            "text/plain": [
              "True"
            ]
          },
          "metadata": {},
          "execution_count": 9
        }
      ]
    },
    {
      "cell_type": "code",
      "metadata": {
        "colab": {
          "base_uri": "https://localhost:8080/"
        },
        "id": "ikpNj0vPvrkG",
        "outputId": "e182b89a-a7c5-43aa-ad40-d42a363a3cdb"
      },
      "source": [
        "from sklearn.feature_extraction.text import TfidfVectorizer\n",
        "\n",
        "tfidf_vect = TfidfVectorizer(tokenizer = LemNormalize, stop_words = 'english',\n",
        "                            ngram_range = (1,2), min_df = 0.05, max_df = 0.85)\n",
        "# opinion_text 칼럼 값으로 피처 벡터화 수행\n",
        "feature_vect = tfidf_vect.fit_transform(document_df['opinion_text'])"
      ],
      "execution_count": null,
      "outputs": [
        {
          "output_type": "stream",
          "name": "stderr",
          "text": [
            "/usr/local/lib/python3.7/dist-packages/sklearn/feature_extraction/text.py:385: UserWarning: Your stop_words may be inconsistent with your preprocessing. Tokenizing the stop words generated tokens ['ha', 'le', 'u', 'wa'] not in stop_words.\n",
            "  'stop_words.' % sorted(inconsistent))\n"
          ]
        }
      ]
    },
    {
      "cell_type": "code",
      "metadata": {
        "id": "WVprG-TLvtQA"
      },
      "source": [
        "from sklearn.cluster import KMeans\n",
        "\n",
        "# 5개 집합으로 군집화 수행\n",
        "km_cluster = KMeans(n_clusters = 5, max_iter = 10000, random_state = 0)\n",
        "km_cluster.fit(feature_vect)\n",
        "cluster_label = km_cluster.labels_\n",
        "cluster_centers = km_cluster.cluster_centers_"
      ],
      "execution_count": null,
      "outputs": []
    },
    {
      "cell_type": "code",
      "metadata": {
        "colab": {
          "base_uri": "https://localhost:8080/",
          "height": 204
        },
        "id": "Yskv8nJLvvHn",
        "outputId": "46138596-fb3d-4fca-f386-44b63e332c20"
      },
      "source": [
        "document_df['cluster_label'] = cluster_label\n",
        "document_df.head()"
      ],
      "execution_count": null,
      "outputs": [
        {
          "output_type": "execute_result",
          "data": {
            "text/html": [
              "<div>\n",
              "<style scoped>\n",
              "    .dataframe tbody tr th:only-of-type {\n",
              "        vertical-align: middle;\n",
              "    }\n",
              "\n",
              "    .dataframe tbody tr th {\n",
              "        vertical-align: top;\n",
              "    }\n",
              "\n",
              "    .dataframe thead th {\n",
              "        text-align: right;\n",
              "    }\n",
              "</style>\n",
              "<table border=\"1\" class=\"dataframe\">\n",
              "  <thead>\n",
              "    <tr style=\"text-align: right;\">\n",
              "      <th></th>\n",
              "      <th>filename</th>\n",
              "      <th>opinion_text</th>\n",
              "      <th>cluster_label</th>\n",
              "    </tr>\n",
              "  </thead>\n",
              "  <tbody>\n",
              "    <tr>\n",
              "      <th>0</th>\n",
              "      <td>/gdrive/MyDrive/essa/topics/battery-life_ipod_...</td>\n",
              "      <td>...</td>\n",
              "      <td>2</td>\n",
              "    </tr>\n",
              "    <tr>\n",
              "      <th>1</th>\n",
              "      <td>/gdrive/MyDrive/essa/topics/speed_garmin_nuvi_...</td>\n",
              "      <td>...</td>\n",
              "      <td>0</td>\n",
              "    </tr>\n",
              "    <tr>\n",
              "      <th>2</th>\n",
              "      <td>/gdrive/MyDrive/essa/topics/accuracy_garmin_nu...</td>\n",
              "      <td>...</td>\n",
              "      <td>0</td>\n",
              "    </tr>\n",
              "    <tr>\n",
              "      <th>3</th>\n",
              "      <td>/gdrive/MyDrive/essa/topics/size_asus_netbook_...</td>\n",
              "      <td>...</td>\n",
              "      <td>2</td>\n",
              "    </tr>\n",
              "    <tr>\n",
              "      <th>4</th>\n",
              "      <td>/gdrive/MyDrive/essa/topics/keyboard_netbook_1...</td>\n",
              "      <td>...</td>\n",
              "      <td>2</td>\n",
              "    </tr>\n",
              "  </tbody>\n",
              "</table>\n",
              "</div>"
            ],
            "text/plain": [
              "                                            filename  ... cluster_label\n",
              "0  /gdrive/MyDrive/essa/topics/battery-life_ipod_...  ...             2\n",
              "1  /gdrive/MyDrive/essa/topics/speed_garmin_nuvi_...  ...             0\n",
              "2  /gdrive/MyDrive/essa/topics/accuracy_garmin_nu...  ...             0\n",
              "3  /gdrive/MyDrive/essa/topics/size_asus_netbook_...  ...             2\n",
              "4  /gdrive/MyDrive/essa/topics/keyboard_netbook_1...  ...             2\n",
              "\n",
              "[5 rows x 3 columns]"
            ]
          },
          "metadata": {},
          "execution_count": 12
        }
      ]
    },
    {
      "cell_type": "code",
      "metadata": {
        "colab": {
          "base_uri": "https://localhost:8080/",
          "height": 483
        },
        "id": "87gZwiRHvxK4",
        "outputId": "1a285886-2979-4688-a008-9b735436427a"
      },
      "source": [
        "document_df[document_df['cluster_label'] == 0].sort_values(by = 'filename')\n",
        "# 대부분 차량용 네비게이션 리뷰로 군집화되어있음 (XXX_garmin_nuvi_XXX는 차량용 네비게이션 리뷰)"
      ],
      "execution_count": null,
      "outputs": [
        {
          "output_type": "execute_result",
          "data": {
            "text/html": [
              "<div>\n",
              "<style scoped>\n",
              "    .dataframe tbody tr th:only-of-type {\n",
              "        vertical-align: middle;\n",
              "    }\n",
              "\n",
              "    .dataframe tbody tr th {\n",
              "        vertical-align: top;\n",
              "    }\n",
              "\n",
              "    .dataframe thead th {\n",
              "        text-align: right;\n",
              "    }\n",
              "</style>\n",
              "<table border=\"1\" class=\"dataframe\">\n",
              "  <thead>\n",
              "    <tr style=\"text-align: right;\">\n",
              "      <th></th>\n",
              "      <th>filename</th>\n",
              "      <th>opinion_text</th>\n",
              "      <th>cluster_label</th>\n",
              "    </tr>\n",
              "  </thead>\n",
              "  <tbody>\n",
              "    <tr>\n",
              "      <th>2</th>\n",
              "      <td>/gdrive/MyDrive/essa/topics/accuracy_garmin_nu...</td>\n",
              "      <td>...</td>\n",
              "      <td>0</td>\n",
              "    </tr>\n",
              "    <tr>\n",
              "      <th>19</th>\n",
              "      <td>/gdrive/MyDrive/essa/topics/buttons_amazon_kindle</td>\n",
              "      <td>...</td>\n",
              "      <td>0</td>\n",
              "    </tr>\n",
              "    <tr>\n",
              "      <th>11</th>\n",
              "      <td>/gdrive/MyDrive/essa/topics/directions_garmin_...</td>\n",
              "      <td>...</td>\n",
              "      <td>0</td>\n",
              "    </tr>\n",
              "    <tr>\n",
              "      <th>17</th>\n",
              "      <td>/gdrive/MyDrive/essa/topics/display_garmin_nuv...</td>\n",
              "      <td>...</td>\n",
              "      <td>0</td>\n",
              "    </tr>\n",
              "    <tr>\n",
              "      <th>18</th>\n",
              "      <td>/gdrive/MyDrive/essa/topics/eyesight-issues_am...</td>\n",
              "      <td>...</td>\n",
              "      <td>0</td>\n",
              "    </tr>\n",
              "    <tr>\n",
              "      <th>5</th>\n",
              "      <td>/gdrive/MyDrive/essa/topics/features_windows7</td>\n",
              "      <td>...</td>\n",
              "      <td>0</td>\n",
              "    </tr>\n",
              "    <tr>\n",
              "      <th>23</th>\n",
              "      <td>/gdrive/MyDrive/essa/topics/fonts_amazon_kindle</td>\n",
              "      <td>...</td>\n",
              "      <td>0</td>\n",
              "    </tr>\n",
              "    <tr>\n",
              "      <th>34</th>\n",
              "      <td>/gdrive/MyDrive/essa/topics/navigation_amazon_...</td>\n",
              "      <td>...</td>\n",
              "      <td>0</td>\n",
              "    </tr>\n",
              "    <tr>\n",
              "      <th>20</th>\n",
              "      <td>/gdrive/MyDrive/essa/topics/price_amazon_kindle</td>\n",
              "      <td>...</td>\n",
              "      <td>0</td>\n",
              "    </tr>\n",
              "    <tr>\n",
              "      <th>12</th>\n",
              "      <td>/gdrive/MyDrive/essa/topics/satellite_garmin_n...</td>\n",
              "      <td>...</td>\n",
              "      <td>0</td>\n",
              "    </tr>\n",
              "    <tr>\n",
              "      <th>14</th>\n",
              "      <td>/gdrive/MyDrive/essa/topics/screen_garmin_nuvi...</td>\n",
              "      <td>...</td>\n",
              "      <td>0</td>\n",
              "    </tr>\n",
              "    <tr>\n",
              "      <th>1</th>\n",
              "      <td>/gdrive/MyDrive/essa/topics/speed_garmin_nuvi_...</td>\n",
              "      <td>...</td>\n",
              "      <td>0</td>\n",
              "    </tr>\n",
              "    <tr>\n",
              "      <th>8</th>\n",
              "      <td>/gdrive/MyDrive/essa/topics/updates_garmin_nuv...</td>\n",
              "      <td>...</td>\n",
              "      <td>0</td>\n",
              "    </tr>\n",
              "    <tr>\n",
              "      <th>15</th>\n",
              "      <td>/gdrive/MyDrive/essa/topics/voice_garmin_nuvi_...</td>\n",
              "      <td>...</td>\n",
              "      <td>0</td>\n",
              "    </tr>\n",
              "  </tbody>\n",
              "</table>\n",
              "</div>"
            ],
            "text/plain": [
              "                                             filename  ... cluster_label\n",
              "2   /gdrive/MyDrive/essa/topics/accuracy_garmin_nu...  ...             0\n",
              "19  /gdrive/MyDrive/essa/topics/buttons_amazon_kindle  ...             0\n",
              "11  /gdrive/MyDrive/essa/topics/directions_garmin_...  ...             0\n",
              "17  /gdrive/MyDrive/essa/topics/display_garmin_nuv...  ...             0\n",
              "18  /gdrive/MyDrive/essa/topics/eyesight-issues_am...  ...             0\n",
              "5       /gdrive/MyDrive/essa/topics/features_windows7  ...             0\n",
              "23    /gdrive/MyDrive/essa/topics/fonts_amazon_kindle  ...             0\n",
              "34  /gdrive/MyDrive/essa/topics/navigation_amazon_...  ...             0\n",
              "20    /gdrive/MyDrive/essa/topics/price_amazon_kindle  ...             0\n",
              "12  /gdrive/MyDrive/essa/topics/satellite_garmin_n...  ...             0\n",
              "14  /gdrive/MyDrive/essa/topics/screen_garmin_nuvi...  ...             0\n",
              "1   /gdrive/MyDrive/essa/topics/speed_garmin_nuvi_...  ...             0\n",
              "8   /gdrive/MyDrive/essa/topics/updates_garmin_nuv...  ...             0\n",
              "15  /gdrive/MyDrive/essa/topics/voice_garmin_nuvi_...  ...             0\n",
              "\n",
              "[14 rows x 3 columns]"
            ]
          },
          "metadata": {},
          "execution_count": 13
        }
      ]
    },
    {
      "cell_type": "code",
      "metadata": {
        "colab": {
          "base_uri": "https://localhost:8080/",
          "height": 204
        },
        "id": "_jSQByGZvyxO",
        "outputId": "1be5d9d2-f4a5-4ef0-bbc8-7042620cd192"
      },
      "source": [
        "document_df[document_df['cluster_label'] == 1].sort_values(by = 'filename')\n",
        "# 호텔에 대한 리뷰로 군집화되어있음"
      ],
      "execution_count": null,
      "outputs": [
        {
          "output_type": "execute_result",
          "data": {
            "text/html": [
              "<div>\n",
              "<style scoped>\n",
              "    .dataframe tbody tr th:only-of-type {\n",
              "        vertical-align: middle;\n",
              "    }\n",
              "\n",
              "    .dataframe tbody tr th {\n",
              "        vertical-align: top;\n",
              "    }\n",
              "\n",
              "    .dataframe thead th {\n",
              "        text-align: right;\n",
              "    }\n",
              "</style>\n",
              "<table border=\"1\" class=\"dataframe\">\n",
              "  <thead>\n",
              "    <tr style=\"text-align: right;\">\n",
              "      <th></th>\n",
              "      <th>filename</th>\n",
              "      <th>opinion_text</th>\n",
              "      <th>cluster_label</th>\n",
              "    </tr>\n",
              "  </thead>\n",
              "  <tbody>\n",
              "    <tr>\n",
              "      <th>21</th>\n",
              "      <td>/gdrive/MyDrive/essa/topics/food_holiday_inn_l...</td>\n",
              "      <td>...</td>\n",
              "      <td>1</td>\n",
              "    </tr>\n",
              "    <tr>\n",
              "      <th>26</th>\n",
              "      <td>/gdrive/MyDrive/essa/topics/food_swissotel_chi...</td>\n",
              "      <td>...</td>\n",
              "      <td>1</td>\n",
              "    </tr>\n",
              "    <tr>\n",
              "      <th>44</th>\n",
              "      <td>/gdrive/MyDrive/essa/topics/service_bestwester...</td>\n",
              "      <td>...</td>\n",
              "      <td>1</td>\n",
              "    </tr>\n",
              "    <tr>\n",
              "      <th>30</th>\n",
              "      <td>/gdrive/MyDrive/essa/topics/service_holiday_in...</td>\n",
              "      <td>...</td>\n",
              "      <td>1</td>\n",
              "    </tr>\n",
              "    <tr>\n",
              "      <th>35</th>\n",
              "      <td>/gdrive/MyDrive/essa/topics/service_swissotel_...</td>\n",
              "      <td>...</td>\n",
              "      <td>1</td>\n",
              "    </tr>\n",
              "  </tbody>\n",
              "</table>\n",
              "</div>"
            ],
            "text/plain": [
              "                                             filename  ... cluster_label\n",
              "21  /gdrive/MyDrive/essa/topics/food_holiday_inn_l...  ...             1\n",
              "26  /gdrive/MyDrive/essa/topics/food_swissotel_chi...  ...             1\n",
              "44  /gdrive/MyDrive/essa/topics/service_bestwester...  ...             1\n",
              "30  /gdrive/MyDrive/essa/topics/service_holiday_in...  ...             1\n",
              "35  /gdrive/MyDrive/essa/topics/service_swissotel_...  ...             1\n",
              "\n",
              "[5 rows x 3 columns]"
            ]
          },
          "metadata": {},
          "execution_count": 14
        }
      ]
    },
    {
      "cell_type": "code",
      "metadata": {
        "colab": {
          "base_uri": "https://localhost:8080/",
          "height": 328
        },
        "id": "mWa1-BlSv1K3",
        "outputId": "a46b3dcb-2315-4970-d6a2-681d975de04d"
      },
      "source": [
        "document_df[document_df['cluster_label'] == 2].sort_values(by = 'filename')\n",
        "# 토요타(Toyota)와 혼다(Honda) 등의 자동차에 대한 리뷰로 군집화되어 있음"
      ],
      "execution_count": null,
      "outputs": [
        {
          "output_type": "execute_result",
          "data": {
            "text/html": [
              "<div>\n",
              "<style scoped>\n",
              "    .dataframe tbody tr th:only-of-type {\n",
              "        vertical-align: middle;\n",
              "    }\n",
              "\n",
              "    .dataframe tbody tr th {\n",
              "        vertical-align: top;\n",
              "    }\n",
              "\n",
              "    .dataframe thead th {\n",
              "        text-align: right;\n",
              "    }\n",
              "</style>\n",
              "<table border=\"1\" class=\"dataframe\">\n",
              "  <thead>\n",
              "    <tr style=\"text-align: right;\">\n",
              "      <th></th>\n",
              "      <th>filename</th>\n",
              "      <th>opinion_text</th>\n",
              "      <th>cluster_label</th>\n",
              "    </tr>\n",
              "  </thead>\n",
              "  <tbody>\n",
              "    <tr>\n",
              "      <th>33</th>\n",
              "      <td>/gdrive/MyDrive/essa/topics/battery-life_amazo...</td>\n",
              "      <td>...</td>\n",
              "      <td>2</td>\n",
              "    </tr>\n",
              "    <tr>\n",
              "      <th>0</th>\n",
              "      <td>/gdrive/MyDrive/essa/topics/battery-life_ipod_...</td>\n",
              "      <td>...</td>\n",
              "      <td>2</td>\n",
              "    </tr>\n",
              "    <tr>\n",
              "      <th>10</th>\n",
              "      <td>/gdrive/MyDrive/essa/topics/battery-life_netbo...</td>\n",
              "      <td>...</td>\n",
              "      <td>2</td>\n",
              "    </tr>\n",
              "    <tr>\n",
              "      <th>4</th>\n",
              "      <td>/gdrive/MyDrive/essa/topics/keyboard_netbook_1...</td>\n",
              "      <td>...</td>\n",
              "      <td>2</td>\n",
              "    </tr>\n",
              "    <tr>\n",
              "      <th>6</th>\n",
              "      <td>/gdrive/MyDrive/essa/topics/screen_ipod_nano_8gb</td>\n",
              "      <td>...</td>\n",
              "      <td>2</td>\n",
              "    </tr>\n",
              "    <tr>\n",
              "      <th>16</th>\n",
              "      <td>/gdrive/MyDrive/essa/topics/screen_netbook_1005ha</td>\n",
              "      <td>...</td>\n",
              "      <td>2</td>\n",
              "    </tr>\n",
              "    <tr>\n",
              "      <th>3</th>\n",
              "      <td>/gdrive/MyDrive/essa/topics/size_asus_netbook_...</td>\n",
              "      <td>...</td>\n",
              "      <td>2</td>\n",
              "    </tr>\n",
              "    <tr>\n",
              "      <th>7</th>\n",
              "      <td>/gdrive/MyDrive/essa/topics/sound_ipod_nano_8gb</td>\n",
              "      <td>headphone jack i got a clear case for it a...</td>\n",
              "      <td>2</td>\n",
              "    </tr>\n",
              "    <tr>\n",
              "      <th>13</th>\n",
              "      <td>/gdrive/MyDrive/essa/topics/video_ipod_nano_8gb</td>\n",
              "      <td>...</td>\n",
              "      <td>2</td>\n",
              "    </tr>\n",
              "  </tbody>\n",
              "</table>\n",
              "</div>"
            ],
            "text/plain": [
              "                                             filename  ... cluster_label\n",
              "33  /gdrive/MyDrive/essa/topics/battery-life_amazo...  ...             2\n",
              "0   /gdrive/MyDrive/essa/topics/battery-life_ipod_...  ...             2\n",
              "10  /gdrive/MyDrive/essa/topics/battery-life_netbo...  ...             2\n",
              "4   /gdrive/MyDrive/essa/topics/keyboard_netbook_1...  ...             2\n",
              "6    /gdrive/MyDrive/essa/topics/screen_ipod_nano_8gb  ...             2\n",
              "16  /gdrive/MyDrive/essa/topics/screen_netbook_1005ha  ...             2\n",
              "3   /gdrive/MyDrive/essa/topics/size_asus_netbook_...  ...             2\n",
              "7     /gdrive/MyDrive/essa/topics/sound_ipod_nano_8gb  ...             2\n",
              "13    /gdrive/MyDrive/essa/topics/video_ipod_nano_8gb  ...             2\n",
              "\n",
              "[9 rows x 3 columns]"
            ]
          },
          "metadata": {},
          "execution_count": 15
        }
      ]
    },
    {
      "cell_type": "code",
      "metadata": {
        "colab": {
          "base_uri": "https://localhost:8080/",
          "height": 390
        },
        "id": "zMPL_9Osv27W",
        "outputId": "d68280f8-2504-42b0-ff8a-8551a313d3ac"
      },
      "source": [
        "\n",
        "document_df[document_df['cluster_label'] == 3].sort_values(by = 'filename')\n",
        "# 킨들, 아이패드, 넷북 등 포터블 전자기에 대한 리뷰로 군집화되어있음"
      ],
      "execution_count": null,
      "outputs": [
        {
          "output_type": "execute_result",
          "data": {
            "text/html": [
              "<div>\n",
              "<style scoped>\n",
              "    .dataframe tbody tr th:only-of-type {\n",
              "        vertical-align: middle;\n",
              "    }\n",
              "\n",
              "    .dataframe tbody tr th {\n",
              "        vertical-align: top;\n",
              "    }\n",
              "\n",
              "    .dataframe thead th {\n",
              "        text-align: right;\n",
              "    }\n",
              "</style>\n",
              "<table border=\"1\" class=\"dataframe\">\n",
              "  <thead>\n",
              "    <tr style=\"text-align: right;\">\n",
              "      <th></th>\n",
              "      <th>filename</th>\n",
              "      <th>opinion_text</th>\n",
              "      <th>cluster_label</th>\n",
              "    </tr>\n",
              "  </thead>\n",
              "  <tbody>\n",
              "    <tr>\n",
              "      <th>38</th>\n",
              "      <td>/gdrive/MyDrive/essa/topics/bathroom_bestweste...</td>\n",
              "      <td>...</td>\n",
              "      <td>3</td>\n",
              "    </tr>\n",
              "    <tr>\n",
              "      <th>41</th>\n",
              "      <td>/gdrive/MyDrive/essa/topics/free_bestwestern_h...</td>\n",
              "      <td>...</td>\n",
              "      <td>3</td>\n",
              "    </tr>\n",
              "    <tr>\n",
              "      <th>43</th>\n",
              "      <td>/gdrive/MyDrive/essa/topics/location_bestweste...</td>\n",
              "      <td>...</td>\n",
              "      <td>3</td>\n",
              "    </tr>\n",
              "    <tr>\n",
              "      <th>27</th>\n",
              "      <td>/gdrive/MyDrive/essa/topics/location_holiday_i...</td>\n",
              "      <td>...</td>\n",
              "      <td>3</td>\n",
              "    </tr>\n",
              "    <tr>\n",
              "      <th>48</th>\n",
              "      <td>/gdrive/MyDrive/essa/topics/parking_bestwester...</td>\n",
              "      <td>...</td>\n",
              "      <td>3</td>\n",
              "    </tr>\n",
              "    <tr>\n",
              "      <th>32</th>\n",
              "      <td>/gdrive/MyDrive/essa/topics/price_holiday_inn_...</td>\n",
              "      <td>...</td>\n",
              "      <td>3</td>\n",
              "    </tr>\n",
              "    <tr>\n",
              "      <th>36</th>\n",
              "      <td>/gdrive/MyDrive/essa/topics/room_holiday_inn_l...</td>\n",
              "      <td>...</td>\n",
              "      <td>3</td>\n",
              "    </tr>\n",
              "    <tr>\n",
              "      <th>46</th>\n",
              "      <td>/gdrive/MyDrive/essa/topics/rooms_bestwestern_...</td>\n",
              "      <td>...</td>\n",
              "      <td>3</td>\n",
              "    </tr>\n",
              "    <tr>\n",
              "      <th>28</th>\n",
              "      <td>/gdrive/MyDrive/essa/topics/rooms_swissotel_ch...</td>\n",
              "      <td>...</td>\n",
              "      <td>3</td>\n",
              "    </tr>\n",
              "    <tr>\n",
              "      <th>50</th>\n",
              "      <td>/gdrive/MyDrive/essa/topics/staff_bestwestern_...</td>\n",
              "      <td>...</td>\n",
              "      <td>3</td>\n",
              "    </tr>\n",
              "    <tr>\n",
              "      <th>29</th>\n",
              "      <td>/gdrive/MyDrive/essa/topics/staff_swissotel_ch...</td>\n",
              "      <td>...</td>\n",
              "      <td>3</td>\n",
              "    </tr>\n",
              "  </tbody>\n",
              "</table>\n",
              "</div>"
            ],
            "text/plain": [
              "                                             filename  ... cluster_label\n",
              "38  /gdrive/MyDrive/essa/topics/bathroom_bestweste...  ...             3\n",
              "41  /gdrive/MyDrive/essa/topics/free_bestwestern_h...  ...             3\n",
              "43  /gdrive/MyDrive/essa/topics/location_bestweste...  ...             3\n",
              "27  /gdrive/MyDrive/essa/topics/location_holiday_i...  ...             3\n",
              "48  /gdrive/MyDrive/essa/topics/parking_bestwester...  ...             3\n",
              "32  /gdrive/MyDrive/essa/topics/price_holiday_inn_...  ...             3\n",
              "36  /gdrive/MyDrive/essa/topics/room_holiday_inn_l...  ...             3\n",
              "46  /gdrive/MyDrive/essa/topics/rooms_bestwestern_...  ...             3\n",
              "28  /gdrive/MyDrive/essa/topics/rooms_swissotel_ch...  ...             3\n",
              "50  /gdrive/MyDrive/essa/topics/staff_bestwestern_...  ...             3\n",
              "29  /gdrive/MyDrive/essa/topics/staff_swissotel_ch...  ...             3\n",
              "\n",
              "[11 rows x 3 columns]"
            ]
          },
          "metadata": {},
          "execution_count": 16
        }
      ]
    },
    {
      "cell_type": "code",
      "metadata": {
        "colab": {
          "base_uri": "https://localhost:8080/",
          "height": 421
        },
        "id": "cmHRrWUov4lP",
        "outputId": "1002056b-6151-4192-c10a-33bc4de53298"
      },
      "source": [
        "\n",
        "document_df[document_df['cluster_label'] == 4].sort_values(by = 'filename')\n",
        "# 킨들, 넷북 등 전자기기에 대한 리뷰로 군집화되어있음 (#3과 비슷)"
      ],
      "execution_count": null,
      "outputs": [
        {
          "output_type": "execute_result",
          "data": {
            "text/html": [
              "<div>\n",
              "<style scoped>\n",
              "    .dataframe tbody tr th:only-of-type {\n",
              "        vertical-align: middle;\n",
              "    }\n",
              "\n",
              "    .dataframe tbody tr th {\n",
              "        vertical-align: top;\n",
              "    }\n",
              "\n",
              "    .dataframe thead th {\n",
              "        text-align: right;\n",
              "    }\n",
              "</style>\n",
              "<table border=\"1\" class=\"dataframe\">\n",
              "  <thead>\n",
              "    <tr style=\"text-align: right;\">\n",
              "      <th></th>\n",
              "      <th>filename</th>\n",
              "      <th>opinion_text</th>\n",
              "      <th>cluster_label</th>\n",
              "    </tr>\n",
              "  </thead>\n",
              "  <tbody>\n",
              "    <tr>\n",
              "      <th>39</th>\n",
              "      <td>/gdrive/MyDrive/essa/topics/comfort_honda_acco...</td>\n",
              "      <td>...</td>\n",
              "      <td>4</td>\n",
              "    </tr>\n",
              "    <tr>\n",
              "      <th>24</th>\n",
              "      <td>/gdrive/MyDrive/essa/topics/comfort_toyota_cam...</td>\n",
              "      <td>...</td>\n",
              "      <td>4</td>\n",
              "    </tr>\n",
              "    <tr>\n",
              "      <th>31</th>\n",
              "      <td>/gdrive/MyDrive/essa/topics/gas_mileage_toyota...</td>\n",
              "      <td>...</td>\n",
              "      <td>4</td>\n",
              "    </tr>\n",
              "    <tr>\n",
              "      <th>42</th>\n",
              "      <td>/gdrive/MyDrive/essa/topics/interior_honda_acc...</td>\n",
              "      <td>...</td>\n",
              "      <td>4</td>\n",
              "    </tr>\n",
              "    <tr>\n",
              "      <th>22</th>\n",
              "      <td>/gdrive/MyDrive/essa/topics/interior_toyota_ca...</td>\n",
              "      <td>...</td>\n",
              "      <td>4</td>\n",
              "    </tr>\n",
              "    <tr>\n",
              "      <th>37</th>\n",
              "      <td>/gdrive/MyDrive/essa/topics/mileage_honda_acco...</td>\n",
              "      <td>...</td>\n",
              "      <td>4</td>\n",
              "    </tr>\n",
              "    <tr>\n",
              "      <th>40</th>\n",
              "      <td>/gdrive/MyDrive/essa/topics/performance_honda_...</td>\n",
              "      <td>...</td>\n",
              "      <td>4</td>\n",
              "    </tr>\n",
              "    <tr>\n",
              "      <th>25</th>\n",
              "      <td>/gdrive/MyDrive/essa/topics/performance_netboo...</td>\n",
              "      <td>...</td>\n",
              "      <td>4</td>\n",
              "    </tr>\n",
              "    <tr>\n",
              "      <th>45</th>\n",
              "      <td>/gdrive/MyDrive/essa/topics/quality_toyota_cam...</td>\n",
              "      <td>...</td>\n",
              "      <td>4</td>\n",
              "    </tr>\n",
              "    <tr>\n",
              "      <th>49</th>\n",
              "      <td>/gdrive/MyDrive/essa/topics/seats_honda_accord...</td>\n",
              "      <td>...</td>\n",
              "      <td>4</td>\n",
              "    </tr>\n",
              "    <tr>\n",
              "      <th>9</th>\n",
              "      <td>/gdrive/MyDrive/essa/topics/speed_windows7</td>\n",
              "      <td>...</td>\n",
              "      <td>4</td>\n",
              "    </tr>\n",
              "    <tr>\n",
              "      <th>47</th>\n",
              "      <td>/gdrive/MyDrive/essa/topics/transmission_toyot...</td>\n",
              "      <td>...</td>\n",
              "      <td>4</td>\n",
              "    </tr>\n",
              "  </tbody>\n",
              "</table>\n",
              "</div>"
            ],
            "text/plain": [
              "                                             filename  ... cluster_label\n",
              "39  /gdrive/MyDrive/essa/topics/comfort_honda_acco...  ...             4\n",
              "24  /gdrive/MyDrive/essa/topics/comfort_toyota_cam...  ...             4\n",
              "31  /gdrive/MyDrive/essa/topics/gas_mileage_toyota...  ...             4\n",
              "42  /gdrive/MyDrive/essa/topics/interior_honda_acc...  ...             4\n",
              "22  /gdrive/MyDrive/essa/topics/interior_toyota_ca...  ...             4\n",
              "37  /gdrive/MyDrive/essa/topics/mileage_honda_acco...  ...             4\n",
              "40  /gdrive/MyDrive/essa/topics/performance_honda_...  ...             4\n",
              "25  /gdrive/MyDrive/essa/topics/performance_netboo...  ...             4\n",
              "45  /gdrive/MyDrive/essa/topics/quality_toyota_cam...  ...             4\n",
              "49  /gdrive/MyDrive/essa/topics/seats_honda_accord...  ...             4\n",
              "9          /gdrive/MyDrive/essa/topics/speed_windows7  ...             4\n",
              "47  /gdrive/MyDrive/essa/topics/transmission_toyot...  ...             4\n",
              "\n",
              "[12 rows x 3 columns]"
            ]
          },
          "metadata": {},
          "execution_count": 17
        }
      ]
    },
    {
      "cell_type": "code",
      "metadata": {
        "colab": {
          "base_uri": "https://localhost:8080/",
          "height": 1000
        },
        "id": "lN37iKh1v6oZ",
        "outputId": "475c371e-0c8f-4be3-c74f-f3e4d5ca8695"
      },
      "source": [
        "from sklearn.cluster import KMeans\n",
        "\n",
        "# 5개 집합으로 군집화 수행\n",
        "km_cluster = KMeans(n_clusters = 3, max_iter = 10000, random_state = 0)\n",
        "km_cluster.fit(feature_vect)\n",
        "cluster_label = km_cluster.labels_\n",
        "cluster_centers = km_cluster.cluster_centers_\n",
        "\n",
        "document_df['cluster_label'] = cluster_label\n",
        "document_df.sort_values(by = 'cluster_label')"
      ],
      "execution_count": null,
      "outputs": [
        {
          "output_type": "execute_result",
          "data": {
            "text/html": [
              "<div>\n",
              "<style scoped>\n",
              "    .dataframe tbody tr th:only-of-type {\n",
              "        vertical-align: middle;\n",
              "    }\n",
              "\n",
              "    .dataframe tbody tr th {\n",
              "        vertical-align: top;\n",
              "    }\n",
              "\n",
              "    .dataframe thead th {\n",
              "        text-align: right;\n",
              "    }\n",
              "</style>\n",
              "<table border=\"1\" class=\"dataframe\">\n",
              "  <thead>\n",
              "    <tr style=\"text-align: right;\">\n",
              "      <th></th>\n",
              "      <th>filename</th>\n",
              "      <th>opinion_text</th>\n",
              "      <th>cluster_label</th>\n",
              "    </tr>\n",
              "  </thead>\n",
              "  <tbody>\n",
              "    <tr>\n",
              "      <th>50</th>\n",
              "      <td>/gdrive/MyDrive/essa/topics/staff_bestwestern_...</td>\n",
              "      <td>...</td>\n",
              "      <td>0</td>\n",
              "    </tr>\n",
              "    <tr>\n",
              "      <th>28</th>\n",
              "      <td>/gdrive/MyDrive/essa/topics/rooms_swissotel_ch...</td>\n",
              "      <td>...</td>\n",
              "      <td>0</td>\n",
              "    </tr>\n",
              "    <tr>\n",
              "      <th>29</th>\n",
              "      <td>/gdrive/MyDrive/essa/topics/staff_swissotel_ch...</td>\n",
              "      <td>...</td>\n",
              "      <td>0</td>\n",
              "    </tr>\n",
              "    <tr>\n",
              "      <th>30</th>\n",
              "      <td>/gdrive/MyDrive/essa/topics/service_holiday_in...</td>\n",
              "      <td>...</td>\n",
              "      <td>0</td>\n",
              "    </tr>\n",
              "    <tr>\n",
              "      <th>32</th>\n",
              "      <td>/gdrive/MyDrive/essa/topics/price_holiday_inn_...</td>\n",
              "      <td>...</td>\n",
              "      <td>0</td>\n",
              "    </tr>\n",
              "    <tr>\n",
              "      <th>21</th>\n",
              "      <td>/gdrive/MyDrive/essa/topics/food_holiday_inn_l...</td>\n",
              "      <td>...</td>\n",
              "      <td>0</td>\n",
              "    </tr>\n",
              "    <tr>\n",
              "      <th>27</th>\n",
              "      <td>/gdrive/MyDrive/essa/topics/location_holiday_i...</td>\n",
              "      <td>...</td>\n",
              "      <td>0</td>\n",
              "    </tr>\n",
              "    <tr>\n",
              "      <th>35</th>\n",
              "      <td>/gdrive/MyDrive/essa/topics/service_swissotel_...</td>\n",
              "      <td>...</td>\n",
              "      <td>0</td>\n",
              "    </tr>\n",
              "    <tr>\n",
              "      <th>38</th>\n",
              "      <td>/gdrive/MyDrive/essa/topics/bathroom_bestweste...</td>\n",
              "      <td>...</td>\n",
              "      <td>0</td>\n",
              "    </tr>\n",
              "    <tr>\n",
              "      <th>41</th>\n",
              "      <td>/gdrive/MyDrive/essa/topics/free_bestwestern_h...</td>\n",
              "      <td>...</td>\n",
              "      <td>0</td>\n",
              "    </tr>\n",
              "    <tr>\n",
              "      <th>43</th>\n",
              "      <td>/gdrive/MyDrive/essa/topics/location_bestweste...</td>\n",
              "      <td>...</td>\n",
              "      <td>0</td>\n",
              "    </tr>\n",
              "    <tr>\n",
              "      <th>44</th>\n",
              "      <td>/gdrive/MyDrive/essa/topics/service_bestwester...</td>\n",
              "      <td>...</td>\n",
              "      <td>0</td>\n",
              "    </tr>\n",
              "    <tr>\n",
              "      <th>46</th>\n",
              "      <td>/gdrive/MyDrive/essa/topics/rooms_bestwestern_...</td>\n",
              "      <td>...</td>\n",
              "      <td>0</td>\n",
              "    </tr>\n",
              "    <tr>\n",
              "      <th>48</th>\n",
              "      <td>/gdrive/MyDrive/essa/topics/parking_bestwester...</td>\n",
              "      <td>...</td>\n",
              "      <td>0</td>\n",
              "    </tr>\n",
              "    <tr>\n",
              "      <th>36</th>\n",
              "      <td>/gdrive/MyDrive/essa/topics/room_holiday_inn_l...</td>\n",
              "      <td>...</td>\n",
              "      <td>0</td>\n",
              "    </tr>\n",
              "    <tr>\n",
              "      <th>26</th>\n",
              "      <td>/gdrive/MyDrive/essa/topics/food_swissotel_chi...</td>\n",
              "      <td>...</td>\n",
              "      <td>0</td>\n",
              "    </tr>\n",
              "    <tr>\n",
              "      <th>23</th>\n",
              "      <td>/gdrive/MyDrive/essa/topics/fonts_amazon_kindle</td>\n",
              "      <td>...</td>\n",
              "      <td>1</td>\n",
              "    </tr>\n",
              "    <tr>\n",
              "      <th>34</th>\n",
              "      <td>/gdrive/MyDrive/essa/topics/navigation_amazon_...</td>\n",
              "      <td>...</td>\n",
              "      <td>1</td>\n",
              "    </tr>\n",
              "    <tr>\n",
              "      <th>33</th>\n",
              "      <td>/gdrive/MyDrive/essa/topics/battery-life_amazo...</td>\n",
              "      <td>...</td>\n",
              "      <td>1</td>\n",
              "    </tr>\n",
              "    <tr>\n",
              "      <th>20</th>\n",
              "      <td>/gdrive/MyDrive/essa/topics/price_amazon_kindle</td>\n",
              "      <td>...</td>\n",
              "      <td>1</td>\n",
              "    </tr>\n",
              "    <tr>\n",
              "      <th>0</th>\n",
              "      <td>/gdrive/MyDrive/essa/topics/battery-life_ipod_...</td>\n",
              "      <td>...</td>\n",
              "      <td>1</td>\n",
              "    </tr>\n",
              "    <tr>\n",
              "      <th>18</th>\n",
              "      <td>/gdrive/MyDrive/essa/topics/eyesight-issues_am...</td>\n",
              "      <td>...</td>\n",
              "      <td>1</td>\n",
              "    </tr>\n",
              "    <tr>\n",
              "      <th>1</th>\n",
              "      <td>/gdrive/MyDrive/essa/topics/speed_garmin_nuvi_...</td>\n",
              "      <td>...</td>\n",
              "      <td>1</td>\n",
              "    </tr>\n",
              "    <tr>\n",
              "      <th>2</th>\n",
              "      <td>/gdrive/MyDrive/essa/topics/accuracy_garmin_nu...</td>\n",
              "      <td>...</td>\n",
              "      <td>1</td>\n",
              "    </tr>\n",
              "    <tr>\n",
              "      <th>3</th>\n",
              "      <td>/gdrive/MyDrive/essa/topics/size_asus_netbook_...</td>\n",
              "      <td>...</td>\n",
              "      <td>1</td>\n",
              "    </tr>\n",
              "    <tr>\n",
              "      <th>4</th>\n",
              "      <td>/gdrive/MyDrive/essa/topics/keyboard_netbook_1...</td>\n",
              "      <td>...</td>\n",
              "      <td>1</td>\n",
              "    </tr>\n",
              "    <tr>\n",
              "      <th>5</th>\n",
              "      <td>/gdrive/MyDrive/essa/topics/features_windows7</td>\n",
              "      <td>...</td>\n",
              "      <td>1</td>\n",
              "    </tr>\n",
              "    <tr>\n",
              "      <th>6</th>\n",
              "      <td>/gdrive/MyDrive/essa/topics/screen_ipod_nano_8gb</td>\n",
              "      <td>...</td>\n",
              "      <td>1</td>\n",
              "    </tr>\n",
              "    <tr>\n",
              "      <th>7</th>\n",
              "      <td>/gdrive/MyDrive/essa/topics/sound_ipod_nano_8gb</td>\n",
              "      <td>headphone jack i got a clear case for it a...</td>\n",
              "      <td>1</td>\n",
              "    </tr>\n",
              "    <tr>\n",
              "      <th>19</th>\n",
              "      <td>/gdrive/MyDrive/essa/topics/buttons_amazon_kindle</td>\n",
              "      <td>...</td>\n",
              "      <td>1</td>\n",
              "    </tr>\n",
              "    <tr>\n",
              "      <th>9</th>\n",
              "      <td>/gdrive/MyDrive/essa/topics/speed_windows7</td>\n",
              "      <td>...</td>\n",
              "      <td>1</td>\n",
              "    </tr>\n",
              "    <tr>\n",
              "      <th>10</th>\n",
              "      <td>/gdrive/MyDrive/essa/topics/battery-life_netbo...</td>\n",
              "      <td>...</td>\n",
              "      <td>1</td>\n",
              "    </tr>\n",
              "    <tr>\n",
              "      <th>8</th>\n",
              "      <td>/gdrive/MyDrive/essa/topics/updates_garmin_nuv...</td>\n",
              "      <td>...</td>\n",
              "      <td>1</td>\n",
              "    </tr>\n",
              "    <tr>\n",
              "      <th>16</th>\n",
              "      <td>/gdrive/MyDrive/essa/topics/screen_netbook_1005ha</td>\n",
              "      <td>...</td>\n",
              "      <td>1</td>\n",
              "    </tr>\n",
              "    <tr>\n",
              "      <th>17</th>\n",
              "      <td>/gdrive/MyDrive/essa/topics/display_garmin_nuv...</td>\n",
              "      <td>...</td>\n",
              "      <td>1</td>\n",
              "    </tr>\n",
              "    <tr>\n",
              "      <th>11</th>\n",
              "      <td>/gdrive/MyDrive/essa/topics/directions_garmin_...</td>\n",
              "      <td>...</td>\n",
              "      <td>1</td>\n",
              "    </tr>\n",
              "    <tr>\n",
              "      <th>15</th>\n",
              "      <td>/gdrive/MyDrive/essa/topics/voice_garmin_nuvi_...</td>\n",
              "      <td>...</td>\n",
              "      <td>1</td>\n",
              "    </tr>\n",
              "    <tr>\n",
              "      <th>25</th>\n",
              "      <td>/gdrive/MyDrive/essa/topics/performance_netboo...</td>\n",
              "      <td>...</td>\n",
              "      <td>1</td>\n",
              "    </tr>\n",
              "    <tr>\n",
              "      <th>14</th>\n",
              "      <td>/gdrive/MyDrive/essa/topics/screen_garmin_nuvi...</td>\n",
              "      <td>...</td>\n",
              "      <td>1</td>\n",
              "    </tr>\n",
              "    <tr>\n",
              "      <th>13</th>\n",
              "      <td>/gdrive/MyDrive/essa/topics/video_ipod_nano_8gb</td>\n",
              "      <td>...</td>\n",
              "      <td>1</td>\n",
              "    </tr>\n",
              "    <tr>\n",
              "      <th>12</th>\n",
              "      <td>/gdrive/MyDrive/essa/topics/satellite_garmin_n...</td>\n",
              "      <td>...</td>\n",
              "      <td>1</td>\n",
              "    </tr>\n",
              "    <tr>\n",
              "      <th>39</th>\n",
              "      <td>/gdrive/MyDrive/essa/topics/comfort_honda_acco...</td>\n",
              "      <td>...</td>\n",
              "      <td>2</td>\n",
              "    </tr>\n",
              "    <tr>\n",
              "      <th>40</th>\n",
              "      <td>/gdrive/MyDrive/essa/topics/performance_honda_...</td>\n",
              "      <td>...</td>\n",
              "      <td>2</td>\n",
              "    </tr>\n",
              "    <tr>\n",
              "      <th>42</th>\n",
              "      <td>/gdrive/MyDrive/essa/topics/interior_honda_acc...</td>\n",
              "      <td>...</td>\n",
              "      <td>2</td>\n",
              "    </tr>\n",
              "    <tr>\n",
              "      <th>49</th>\n",
              "      <td>/gdrive/MyDrive/essa/topics/seats_honda_accord...</td>\n",
              "      <td>...</td>\n",
              "      <td>2</td>\n",
              "    </tr>\n",
              "    <tr>\n",
              "      <th>24</th>\n",
              "      <td>/gdrive/MyDrive/essa/topics/comfort_toyota_cam...</td>\n",
              "      <td>...</td>\n",
              "      <td>2</td>\n",
              "    </tr>\n",
              "    <tr>\n",
              "      <th>45</th>\n",
              "      <td>/gdrive/MyDrive/essa/topics/quality_toyota_cam...</td>\n",
              "      <td>...</td>\n",
              "      <td>2</td>\n",
              "    </tr>\n",
              "    <tr>\n",
              "      <th>47</th>\n",
              "      <td>/gdrive/MyDrive/essa/topics/transmission_toyot...</td>\n",
              "      <td>...</td>\n",
              "      <td>2</td>\n",
              "    </tr>\n",
              "    <tr>\n",
              "      <th>22</th>\n",
              "      <td>/gdrive/MyDrive/essa/topics/interior_toyota_ca...</td>\n",
              "      <td>...</td>\n",
              "      <td>2</td>\n",
              "    </tr>\n",
              "    <tr>\n",
              "      <th>37</th>\n",
              "      <td>/gdrive/MyDrive/essa/topics/mileage_honda_acco...</td>\n",
              "      <td>...</td>\n",
              "      <td>2</td>\n",
              "    </tr>\n",
              "    <tr>\n",
              "      <th>31</th>\n",
              "      <td>/gdrive/MyDrive/essa/topics/gas_mileage_toyota...</td>\n",
              "      <td>...</td>\n",
              "      <td>2</td>\n",
              "    </tr>\n",
              "  </tbody>\n",
              "</table>\n",
              "</div>"
            ],
            "text/plain": [
              "                                             filename  ... cluster_label\n",
              "50  /gdrive/MyDrive/essa/topics/staff_bestwestern_...  ...             0\n",
              "28  /gdrive/MyDrive/essa/topics/rooms_swissotel_ch...  ...             0\n",
              "29  /gdrive/MyDrive/essa/topics/staff_swissotel_ch...  ...             0\n",
              "30  /gdrive/MyDrive/essa/topics/service_holiday_in...  ...             0\n",
              "32  /gdrive/MyDrive/essa/topics/price_holiday_inn_...  ...             0\n",
              "21  /gdrive/MyDrive/essa/topics/food_holiday_inn_l...  ...             0\n",
              "27  /gdrive/MyDrive/essa/topics/location_holiday_i...  ...             0\n",
              "35  /gdrive/MyDrive/essa/topics/service_swissotel_...  ...             0\n",
              "38  /gdrive/MyDrive/essa/topics/bathroom_bestweste...  ...             0\n",
              "41  /gdrive/MyDrive/essa/topics/free_bestwestern_h...  ...             0\n",
              "43  /gdrive/MyDrive/essa/topics/location_bestweste...  ...             0\n",
              "44  /gdrive/MyDrive/essa/topics/service_bestwester...  ...             0\n",
              "46  /gdrive/MyDrive/essa/topics/rooms_bestwestern_...  ...             0\n",
              "48  /gdrive/MyDrive/essa/topics/parking_bestwester...  ...             0\n",
              "36  /gdrive/MyDrive/essa/topics/room_holiday_inn_l...  ...             0\n",
              "26  /gdrive/MyDrive/essa/topics/food_swissotel_chi...  ...             0\n",
              "23    /gdrive/MyDrive/essa/topics/fonts_amazon_kindle  ...             1\n",
              "34  /gdrive/MyDrive/essa/topics/navigation_amazon_...  ...             1\n",
              "33  /gdrive/MyDrive/essa/topics/battery-life_amazo...  ...             1\n",
              "20    /gdrive/MyDrive/essa/topics/price_amazon_kindle  ...             1\n",
              "0   /gdrive/MyDrive/essa/topics/battery-life_ipod_...  ...             1\n",
              "18  /gdrive/MyDrive/essa/topics/eyesight-issues_am...  ...             1\n",
              "1   /gdrive/MyDrive/essa/topics/speed_garmin_nuvi_...  ...             1\n",
              "2   /gdrive/MyDrive/essa/topics/accuracy_garmin_nu...  ...             1\n",
              "3   /gdrive/MyDrive/essa/topics/size_asus_netbook_...  ...             1\n",
              "4   /gdrive/MyDrive/essa/topics/keyboard_netbook_1...  ...             1\n",
              "5       /gdrive/MyDrive/essa/topics/features_windows7  ...             1\n",
              "6    /gdrive/MyDrive/essa/topics/screen_ipod_nano_8gb  ...             1\n",
              "7     /gdrive/MyDrive/essa/topics/sound_ipod_nano_8gb  ...             1\n",
              "19  /gdrive/MyDrive/essa/topics/buttons_amazon_kindle  ...             1\n",
              "9          /gdrive/MyDrive/essa/topics/speed_windows7  ...             1\n",
              "10  /gdrive/MyDrive/essa/topics/battery-life_netbo...  ...             1\n",
              "8   /gdrive/MyDrive/essa/topics/updates_garmin_nuv...  ...             1\n",
              "16  /gdrive/MyDrive/essa/topics/screen_netbook_1005ha  ...             1\n",
              "17  /gdrive/MyDrive/essa/topics/display_garmin_nuv...  ...             1\n",
              "11  /gdrive/MyDrive/essa/topics/directions_garmin_...  ...             1\n",
              "15  /gdrive/MyDrive/essa/topics/voice_garmin_nuvi_...  ...             1\n",
              "25  /gdrive/MyDrive/essa/topics/performance_netboo...  ...             1\n",
              "14  /gdrive/MyDrive/essa/topics/screen_garmin_nuvi...  ...             1\n",
              "13    /gdrive/MyDrive/essa/topics/video_ipod_nano_8gb  ...             1\n",
              "12  /gdrive/MyDrive/essa/topics/satellite_garmin_n...  ...             1\n",
              "39  /gdrive/MyDrive/essa/topics/comfort_honda_acco...  ...             2\n",
              "40  /gdrive/MyDrive/essa/topics/performance_honda_...  ...             2\n",
              "42  /gdrive/MyDrive/essa/topics/interior_honda_acc...  ...             2\n",
              "49  /gdrive/MyDrive/essa/topics/seats_honda_accord...  ...             2\n",
              "24  /gdrive/MyDrive/essa/topics/comfort_toyota_cam...  ...             2\n",
              "45  /gdrive/MyDrive/essa/topics/quality_toyota_cam...  ...             2\n",
              "47  /gdrive/MyDrive/essa/topics/transmission_toyot...  ...             2\n",
              "22  /gdrive/MyDrive/essa/topics/interior_toyota_ca...  ...             2\n",
              "37  /gdrive/MyDrive/essa/topics/mileage_honda_acco...  ...             2\n",
              "31  /gdrive/MyDrive/essa/topics/gas_mileage_toyota...  ...             2\n",
              "\n",
              "[51 rows x 3 columns]"
            ]
          },
          "metadata": {},
          "execution_count": 18
        }
      ]
    },
    {
      "cell_type": "code",
      "metadata": {
        "colab": {
          "base_uri": "https://localhost:8080/"
        },
        "id": "BxJ7xZ38v96d",
        "outputId": "bfb63b17-0bbc-4c49-f9e7-c08d2e7c8187"
      },
      "source": [
        "cluster_centers = km_cluster.cluster_centers_\n",
        "print('cluster_centers shape :', cluster_centers.shape)\n",
        "print(cluster_centers)"
      ],
      "execution_count": null,
      "outputs": [
        {
          "output_type": "stream",
          "name": "stdout",
          "text": [
            "cluster_centers shape : (3, 4611)\n",
            "[[0.         0.00099499 0.00174637 ... 0.         0.00183397 0.00144581]\n",
            " [0.01005322 0.         0.         ... 0.00706287 0.         0.        ]\n",
            " [0.         0.00092551 0.         ... 0.         0.         0.        ]]\n"
          ]
        }
      ]
    },
    {
      "cell_type": "code",
      "metadata": {
        "id": "w2Pn8c6Jv_77"
      },
      "source": [
        "# 군집별 top n 핵심 단어, 그 단어의 위치 상댓갑스 대상 파일명을 반환함\n",
        "def get_cluster_details(cluster_model, cluster_data, feature_names, cluster_num, top_n_features=10):\n",
        "    cluster_details = {}\n",
        "    \n",
        "    # cluster_centers array의 값이 큰 순으로 정렬괸 인덱스 값을 반환\n",
        "    # 군집 중심점(centroid)별 할당된 word 피처들의 거리값이 큰 순으로 값을 구하기 위함\n",
        "    centroid_feature_ordered_ind = cluster_model.cluster_centers_.argsort()[:, ::-1]\n",
        "    \n",
        "    # 개별 군집별로 반복하면서 핵심 단어, 그 단어의 중심 위치 상댓값, 대상 파일명 입력\n",
        "    for cluster_num in range(cluster_num):\n",
        "        # 개별 군집별 정보를 담은 데이터 초기화\n",
        "        cluster_details[cluster_num] = {}\n",
        "        cluster_details[cluster_num]['cluster'] = cluster_num\n",
        "        \n",
        "        # cluster_centers_.argsort()[:, ::-1]로 구한 인덱스를 이용해 top n 피처 단어를 구함\n",
        "        top_feature_indexes = centroid_feature_ordered_ind[cluster_num, :top_n_features]\n",
        "        top_features = [ feature_names[ind] for ind in top_feature_indexes ]\n",
        "        \n",
        "        # top_feature_indexes를 이용해 해당 피초 단어의 중심 위치 상댓값 구함\n",
        "        top_feature_values = cluster_model.cluster_centers_[cluster_num, top_feature_indexes].tolist()\n",
        "        \n",
        "        # cluster_details 딕셔너리 객체에 개별 군집별 핵심 단어와 중심위치 상댓값, 해당 파일명 입력\n",
        "        cluster_details[cluster_num]['top_features'] = top_features\n",
        "        cluster_details[cluster_num]['top_features_value'] = top_feature_values\n",
        "        filenames = cluster_data[cluster_data['cluster_label'] == cluster_num]['filename']\n",
        "        filenames = filenames.values.tolist()\n",
        "        \n",
        "        cluster_details[cluster_num]['filenames'] = filenames\n",
        "        \n",
        "    return cluster_details"
      ],
      "execution_count": null,
      "outputs": []
    },
    {
      "cell_type": "code",
      "metadata": {
        "id": "eoQ3GkD-wCA4"
      },
      "source": [
        "def print_cluster_details(cluster_details):\n",
        "    for cluster_num, cluster_detail in cluster_details.items():\n",
        "        print('####### Cluster {0}'.format(cluster_num))\n",
        "        print('Top features:', cluster_detail['top_features'])\n",
        "        print('Reviews 파일명 :',cluster_detail['filenames'][:7])\n",
        "        print('==================================================')"
      ],
      "execution_count": null,
      "outputs": []
    },
    {
      "cell_type": "code",
      "metadata": {
        "colab": {
          "base_uri": "https://localhost:8080/"
        },
        "id": "k26el9jiwDpi",
        "outputId": "169bbcaf-0f62-4e31-a6a2-b4ecf7e572ec"
      },
      "source": [
        "feature_names = tfidf_vect.get_feature_names()\n",
        "\n",
        "cluster_details = get_cluster_details(cluster_model = km_cluster, cluster_data = document_df,\n",
        "                                       feature_names = feature_names, cluster_num = 3, top_n_features = 10)\n",
        "print_cluster_details(cluster_details)"
      ],
      "execution_count": null,
      "outputs": [
        {
          "output_type": "stream",
          "name": "stdout",
          "text": [
            "####### Cluster 0\n",
            "Top features: ['room', 'hotel', 'service', 'staff', 'food', 'location', 'bathroom', 'clean', 'price', 'parking']\n",
            "Reviews 파일명 : ['/gdrive/MyDrive/essa/topics/food_holiday_inn_london', '/gdrive/MyDrive/essa/topics/food_swissotel_chicago', '/gdrive/MyDrive/essa/topics/location_holiday_inn_london', '/gdrive/MyDrive/essa/topics/rooms_swissotel_chicago', '/gdrive/MyDrive/essa/topics/staff_swissotel_chicago', '/gdrive/MyDrive/essa/topics/service_holiday_inn_london', '/gdrive/MyDrive/essa/topics/price_holiday_inn_london']\n",
            "==================================================\n",
            "####### Cluster 1\n",
            "Top features: ['screen', 'battery', 'keyboard', 'battery life', 'life', 'kindle', 'direction', 'video', 'size', 'voice']\n",
            "Reviews 파일명 : ['/gdrive/MyDrive/essa/topics/battery-life_ipod_nano_8gb', '/gdrive/MyDrive/essa/topics/speed_garmin_nuvi_255W_gps', '/gdrive/MyDrive/essa/topics/accuracy_garmin_nuvi_255W_gps', '/gdrive/MyDrive/essa/topics/size_asus_netbook_1005ha', '/gdrive/MyDrive/essa/topics/keyboard_netbook_1005ha', '/gdrive/MyDrive/essa/topics/features_windows7', '/gdrive/MyDrive/essa/topics/screen_ipod_nano_8gb']\n",
            "==================================================\n",
            "####### Cluster 2\n",
            "Top features: ['interior', 'seat', 'mileage', 'comfortable', 'gas', 'gas mileage', 'transmission', 'car', 'performance', 'quality']\n",
            "Reviews 파일명 : ['/gdrive/MyDrive/essa/topics/interior_toyota_camry_2007', '/gdrive/MyDrive/essa/topics/comfort_toyota_camry_2007', '/gdrive/MyDrive/essa/topics/gas_mileage_toyota_camry_2007', '/gdrive/MyDrive/essa/topics/mileage_honda_accord_2008', '/gdrive/MyDrive/essa/topics/comfort_honda_accord_2008', '/gdrive/MyDrive/essa/topics/performance_honda_accord_2008', '/gdrive/MyDrive/essa/topics/interior_honda_accord_2008']\n",
            "==================================================\n"
          ]
        }
      ]
    },
    {
      "cell_type": "code",
      "metadata": {
        "colab": {
          "base_uri": "https://localhost:8080/",
          "height": 193
        },
        "id": "ly4uDEJVNzME",
        "outputId": "fd4419a3-a371-4201-d1f0-4c5a0533cecc"
      },
      "source": [
        "from sklearn.linear_model import Ridge, LogisticRegression\n",
        "from sklearn.model_selection import train_test_split, cross_val_score\n",
        "from sklearn.feature_extraction.text import CountVectorizer, TfidfVectorizer\n",
        "import pandas as pd\n",
        "\n",
        "mercari_df = pd.read_csv('/gdrive/MyDrive/essa/train.tsv', sep = '\\t')\n",
        "print(mercari_df.shape)\n",
        "mercari_df.head(3)"
      ],
      "execution_count": null,
      "outputs": [
        {
          "output_type": "stream",
          "name": "stdout",
          "text": [
            "(1482535, 8)\n"
          ]
        },
        {
          "output_type": "execute_result",
          "data": {
            "text/html": [
              "<div>\n",
              "<style scoped>\n",
              "    .dataframe tbody tr th:only-of-type {\n",
              "        vertical-align: middle;\n",
              "    }\n",
              "\n",
              "    .dataframe tbody tr th {\n",
              "        vertical-align: top;\n",
              "    }\n",
              "\n",
              "    .dataframe thead th {\n",
              "        text-align: right;\n",
              "    }\n",
              "</style>\n",
              "<table border=\"1\" class=\"dataframe\">\n",
              "  <thead>\n",
              "    <tr style=\"text-align: right;\">\n",
              "      <th></th>\n",
              "      <th>train_id</th>\n",
              "      <th>name</th>\n",
              "      <th>item_condition_id</th>\n",
              "      <th>category_name</th>\n",
              "      <th>brand_name</th>\n",
              "      <th>price</th>\n",
              "      <th>shipping</th>\n",
              "      <th>item_description</th>\n",
              "    </tr>\n",
              "  </thead>\n",
              "  <tbody>\n",
              "    <tr>\n",
              "      <th>0</th>\n",
              "      <td>0</td>\n",
              "      <td>MLB Cincinnati Reds T Shirt Size XL</td>\n",
              "      <td>3</td>\n",
              "      <td>Men/Tops/T-shirts</td>\n",
              "      <td>NaN</td>\n",
              "      <td>10.0</td>\n",
              "      <td>1</td>\n",
              "      <td>No description yet</td>\n",
              "    </tr>\n",
              "    <tr>\n",
              "      <th>1</th>\n",
              "      <td>1</td>\n",
              "      <td>Razer BlackWidow Chroma Keyboard</td>\n",
              "      <td>3</td>\n",
              "      <td>Electronics/Computers &amp; Tablets/Components &amp; P...</td>\n",
              "      <td>Razer</td>\n",
              "      <td>52.0</td>\n",
              "      <td>0</td>\n",
              "      <td>This keyboard is in great condition and works ...</td>\n",
              "    </tr>\n",
              "    <tr>\n",
              "      <th>2</th>\n",
              "      <td>2</td>\n",
              "      <td>AVA-VIV Blouse</td>\n",
              "      <td>1</td>\n",
              "      <td>Women/Tops &amp; Blouses/Blouse</td>\n",
              "      <td>Target</td>\n",
              "      <td>10.0</td>\n",
              "      <td>1</td>\n",
              "      <td>Adorable top with a hint of lace and a key hol...</td>\n",
              "    </tr>\n",
              "  </tbody>\n",
              "</table>\n",
              "</div>"
            ],
            "text/plain": [
              "   train_id  ...                                   item_description\n",
              "0         0  ...                                 No description yet\n",
              "1         1  ...  This keyboard is in great condition and works ...\n",
              "2         2  ...  Adorable top with a hint of lace and a key hol...\n",
              "\n",
              "[3 rows x 8 columns]"
            ]
          },
          "metadata": {},
          "execution_count": 23
        }
      ]
    },
    {
      "cell_type": "code",
      "metadata": {
        "colab": {
          "base_uri": "https://localhost:8080/"
        },
        "id": "MeocVt_YN1Dt",
        "outputId": "85c760b9-625b-4f11-ce32-52f1b390eb1a"
      },
      "source": [
        "print(mercari_df.info())"
      ],
      "execution_count": null,
      "outputs": [
        {
          "output_type": "stream",
          "name": "stdout",
          "text": [
            "<class 'pandas.core.frame.DataFrame'>\n",
            "RangeIndex: 1482535 entries, 0 to 1482534\n",
            "Data columns (total 8 columns):\n",
            " #   Column             Non-Null Count    Dtype  \n",
            "---  ------             --------------    -----  \n",
            " 0   train_id           1482535 non-null  int64  \n",
            " 1   name               1482535 non-null  object \n",
            " 2   item_condition_id  1482535 non-null  int64  \n",
            " 3   category_name      1476208 non-null  object \n",
            " 4   brand_name         849853 non-null   object \n",
            " 5   price              1482535 non-null  float64\n",
            " 6   shipping           1482535 non-null  int64  \n",
            " 7   item_description   1482531 non-null  object \n",
            "dtypes: float64(1), int64(3), object(4)\n",
            "memory usage: 90.5+ MB\n",
            "None\n"
          ]
        }
      ]
    },
    {
      "cell_type": "code",
      "metadata": {
        "colab": {
          "base_uri": "https://localhost:8080/",
          "height": 361
        },
        "id": "yB9pmT3pN4Ix",
        "outputId": "d978cdf9-14ec-47fa-d358-8618aa0a39df"
      },
      "source": [
        "import matplotlib.pyplot as plt\n",
        "import seaborn as sns\n",
        "%matplotlib inline\n",
        "\n",
        "y_train_df = mercari_df['price']\n",
        "plt.figure(figsize = (6,4))\n",
        "sns.distplot(y_train_df, kde = False)"
      ],
      "execution_count": null,
      "outputs": [
        {
          "output_type": "stream",
          "name": "stderr",
          "text": [
            "/usr/local/lib/python3.7/dist-packages/seaborn/distributions.py:2619: FutureWarning: `distplot` is a deprecated function and will be removed in a future version. Please adapt your code to use either `displot` (a figure-level function with similar flexibility) or `histplot` (an axes-level function for histograms).\n",
            "  warnings.warn(msg, FutureWarning)\n"
          ]
        },
        {
          "output_type": "execute_result",
          "data": {
            "text/plain": [
              "<matplotlib.axes._subplots.AxesSubplot at 0x7facce5f63d0>"
            ]
          },
          "metadata": {},
          "execution_count": 25
        },
        {
          "output_type": "display_data",
          "data": {
            "image/png": "[encoded data removed]",
            "text/plain": [
              "<Figure size 432x288 with 1 Axes>"
            ]
          },
          "metadata": {
            "needs_background": "light"
          }
        }
      ]
    },
    {
      "cell_type": "code",
      "metadata": {
        "colab": {
          "base_uri": "https://localhost:8080/",
          "height": 350
        },
        "id": "lNlncGNxN6mh",
        "outputId": "4277be66-70a0-4f2e-d417-319c5c223707"
      },
      "source": [
        "# price 컬럼을 로그 값으로 변환\n",
        "import numpy as np\n",
        "\n",
        "y_train_df = np.log1p(y_train_df)\n",
        "sns.distplot(y_train_df, kde = False)"
      ],
      "execution_count": null,
      "outputs": [
        {
          "output_type": "stream",
          "name": "stderr",
          "text": [
            "/usr/local/lib/python3.7/dist-packages/seaborn/distributions.py:2619: FutureWarning: `distplot` is a deprecated function and will be removed in a future version. Please adapt your code to use either `displot` (a figure-level function with similar flexibility) or `histplot` (an axes-level function for histograms).\n",
            "  warnings.warn(msg, FutureWarning)\n"
          ]
        },
        {
          "output_type": "execute_result",
          "data": {
            "text/plain": [
              "<matplotlib.axes._subplots.AxesSubplot at 0x7facc5ce4650>"
            ]
          },
          "metadata": {},
          "execution_count": 26
        },
        {
          "output_type": "display_data",
          "data": {
            "image/png": "[encoded data removed]",
            "text/plain": [
              "<Figure size 432x288 with 1 Axes>"
            ]
          },
          "metadata": {
            "needs_background": "light"
          }
        }
      ]
    },
    {
      "cell_type": "code",
      "metadata": {
        "colab": {
          "base_uri": "https://localhost:8080/"
        },
        "id": "JxYdtnY2N8cS",
        "outputId": "d154b37c-1bdd-4725-b25c-116027bc58cb"
      },
      "source": [
        "mercari_df['price'] = np.log1p(mercari_df['price'])\n",
        "mercari_df['price'].head(3)"
      ],
      "execution_count": null,
      "outputs": [
        {
          "output_type": "execute_result",
          "data": {
            "text/plain": [
              "0    2.397895\n",
              "1    3.970292\n",
              "2    2.397895\n",
              "Name: price, dtype: float64"
            ]
          },
          "metadata": {},
          "execution_count": 27
        }
      ]
    },
    {
      "cell_type": "code",
      "metadata": {
        "colab": {
          "base_uri": "https://localhost:8080/"
        },
        "id": "thKF2w6MN-D7",
        "outputId": "41c150ee-5213-4348-c175-5447be3793cc"
      },
      "source": [
        "print('Shipping 값 유형:\\n', mercari_df['shipping'].value_counts())\n",
        "print('item_condition_id 값 유형:\\n', mercari_df['item_condition_id'].value_counts())"
      ],
      "execution_count": null,
      "outputs": [
        {
          "output_type": "stream",
          "name": "stdout",
          "text": [
            "Shipping 값 유형:\n",
            " 0    819435\n",
            "1    663100\n",
            "Name: shipping, dtype: int64\n",
            "item_condition_id 값 유형:\n",
            " 1    640549\n",
            "3    432161\n",
            "2    375479\n",
            "4     31962\n",
            "5      2384\n",
            "Name: item_condition_id, dtype: int64\n"
          ]
        }
      ]
    },
    {
      "cell_type": "code",
      "metadata": {
        "colab": {
          "base_uri": "https://localhost:8080/"
        },
        "id": "fZhWM17vOCCH",
        "outputId": "952947c1-b04d-4d07-cb93-1d2f7b0b966e"
      },
      "source": [
        "boolean_cond= mercari_df['item_description']=='No description yet'\n",
        "mercari_df[boolean_cond]['item_description'].count()"
      ],
      "execution_count": null,
      "outputs": [
        {
          "output_type": "execute_result",
          "data": {
            "text/plain": [
              "82489"
            ]
          },
          "metadata": {},
          "execution_count": 29
        }
      ]
    },
    {
      "cell_type": "code",
      "metadata": {
        "colab": {
          "base_uri": "https://localhost:8080/"
        },
        "id": "coQNDA9QOES2",
        "outputId": "88a96dc7-3568-4c1f-96db-c5ac59e1dda7"
      },
      "source": [
        "\n",
        "# apply lambda에서 호출되는 대, 중, 소 분할 함수 생성, 대, 중, 소 값을 리스트로 반환\n",
        "def split_cat(category_name):\n",
        "    try:\n",
        "        return category_name.split('/')\n",
        "    except:\n",
        "        return ['Other_Null', 'Other_Null', 'Other_Null']\n",
        "# 위의 split_cat()을 apply lambda에서 호출해 대, 중, 소 칼럼을 mercari_df에 생성\n",
        "mercari_df['cat_dae'], mercari_df['cat_jung'], mercari_df['cat_so'] = \\\n",
        "                       zip(*mercari_df['category_name'].apply(lambda x : split_cat(x)))\n",
        "    \n",
        "# 대분류만 값의 유형과 건수를 살펴보고 중분류, 소분류는 값의 유형이 많으므로 개수만 추출\n",
        "print('대분류 유형 : \\n', mercari_df['cat_dae'].value_counts())\n",
        "print('중분류 개수 :', mercari_df['cat_jung'].nunique())\n",
        "print('소분류 개수 :', mercari_df['cat_so'].nunique())"
      ],
      "execution_count": null,
      "outputs": [
        {
          "output_type": "stream",
          "name": "stdout",
          "text": [
            "대분류 유형 : \n",
            " Women                     664385\n",
            "Beauty                    207828\n",
            "Kids                      171689\n",
            "Electronics               122690\n",
            "Men                        93680\n",
            "Home                       67871\n",
            "Vintage & Collectibles     46530\n",
            "Other                      45351\n",
            "Handmade                   30842\n",
            "Sports & Outdoors          25342\n",
            "Other_Null                  6327\n",
            "Name: cat_dae, dtype: int64\n",
            "중분류 개수 : 114\n",
            "소분류 개수 : 871\n"
          ]
        }
      ]
    },
    {
      "cell_type": "code",
      "metadata": {
        "colab": {
          "base_uri": "https://localhost:8080/"
        },
        "id": "p3ZObtzkOGKJ",
        "outputId": "f06d5117-bf16-4bdf-a5fe-3047f6f13c33"
      },
      "source": [
        "mercari_df['brand_name'] = mercari_df['brand_name'].fillna(value = 'Other_Null')\n",
        "mercari_df['category_name'] = mercari_df['category_name'].fillna(value = 'Other_Null')\n",
        "mercari_df['item_description'] = mercari_df['item_description'].fillna(value = 'Other_Null')\n",
        "\n",
        "# 각 칼럼별로 Null 값 건수 확인. 모두 0이 나와야 함\n",
        "mercari_df.isnull().sum()"
      ],
      "execution_count": null,
      "outputs": [
        {
          "output_type": "execute_result",
          "data": {
            "text/plain": [
              "train_id             0\n",
              "name                 0\n",
              "item_condition_id    0\n",
              "category_name        0\n",
              "brand_name           0\n",
              "price                0\n",
              "shipping             0\n",
              "item_description     0\n",
              "cat_dae              0\n",
              "cat_jung             0\n",
              "cat_so               0\n",
              "dtype: int64"
            ]
          },
          "metadata": {},
          "execution_count": 31
        }
      ]
    },
    {
      "cell_type": "code",
      "metadata": {
        "colab": {
          "base_uri": "https://localhost:8080/"
        },
        "id": "sdUNSOOXOIIA",
        "outputId": "d76559c4-86c3-4120-e0f0-ae71ef136f40"
      },
      "source": [
        "print('brand name의 유형 건수 :', mercari_df['brand_name'].nunique())\n",
        "print('brand name sample 5건 :\\n', mercari_df['brand_name'].value_counts()[:5])"
      ],
      "execution_count": null,
      "outputs": [
        {
          "output_type": "stream",
          "name": "stdout",
          "text": [
            "brand name의 유형 건수 : 4810\n",
            "brand name sample 5건 :\n",
            " Other_Null           632682\n",
            "PINK                  54088\n",
            "Nike                  54043\n",
            "Victoria's Secret     48036\n",
            "LuLaRoe               31024\n",
            "Name: brand_name, dtype: int64\n"
          ]
        }
      ]
    },
    {
      "cell_type": "code",
      "metadata": {
        "colab": {
          "base_uri": "https://localhost:8080/"
        },
        "id": "8QnAgHpXOKFa",
        "outputId": "ebe90d9f-0ac9-45ca-9986-bddb9ef4d851"
      },
      "source": [
        "print('name의 종류 개수 :', mercari_df['name'].nunique())\n",
        "print('name sample 10건 : \\n', mercari_df['name'][:10])"
      ],
      "execution_count": null,
      "outputs": [
        {
          "output_type": "stream",
          "name": "stdout",
          "text": [
            "name의 종류 개수 : 1225273\n",
            "name sample 10건 : \n",
            " 0       MLB Cincinnati Reds T Shirt Size XL\n",
            "1          Razer BlackWidow Chroma Keyboard\n",
            "2                            AVA-VIV Blouse\n",
            "3                     Leather Horse Statues\n",
            "4                      24K GOLD plated rose\n",
            "5          Bundled items requested for Ruie\n",
            "6        Acacia pacific tides santorini top\n",
            "7      Girls cheer and tumbling bundle of 7\n",
            "8                     Girls Nike Pro shorts\n",
            "9    Porcelain clown doll checker pants VTG\n",
            "Name: name, dtype: object\n"
          ]
        }
      ]
    },
    {
      "cell_type": "code",
      "metadata": {
        "colab": {
          "base_uri": "https://localhost:8080/"
        },
        "id": "u4a0Xm80OL7e",
        "outputId": "ee01b023-96e9-41e7-a759-202e4b60af75"
      },
      "source": [
        "pd.set_option('max_colwidth', 200)\n",
        "\n",
        "# item_description의 평균 문자열 크기\n",
        "print('item_description 평균 문자열 크기:', mercari_df['item_description'].str.len().mean())\n",
        "\n",
        "mercari_df['item_description'][:2]"
      ],
      "execution_count": null,
      "outputs": [
        {
          "output_type": "stream",
          "name": "stdout",
          "text": [
            "item_description 평균 문자열 크기: 145.7113889385411\n"
          ]
        },
        {
          "output_type": "execute_result",
          "data": {
            "text/plain": [
              "0                                                                                                                                                                              No description yet\n",
              "1    This keyboard is in great condition and works like it came out of the box. All of the ports are tested and work perfectly. The lights are customizable via the Razer Synapse app on your PC.\n",
              "Name: item_description, dtype: object"
            ]
          },
          "metadata": {},
          "execution_count": 34
        }
      ]
    },
    {
      "cell_type": "code",
      "metadata": {
        "colab": {
          "base_uri": "https://localhost:8080/"
        },
        "id": "1xi029fPON7g",
        "outputId": "b72c41c4-d4a0-437f-ff44-d29bbc1d0dda"
      },
      "source": [
        "# nsme 속성에 대한 피처 벡터화 변환\n",
        "cnt_vec = CountVectorizer()\n",
        "X_name = cnt_vec.fit_transform(mercari_df.name)\n",
        "\n",
        "# item_descriotion에 대한 피처 벡터화 변환\n",
        "tfidf_descp = TfidfVectorizer(max_features = 50000, ngram_range = (1,3), stop_words = 'english')\n",
        "X_descp = tfidf_descp.fit_transform(mercari_df['item_description'])\n",
        "\n",
        "print('name vectorization shape:', X_name.shape)\n",
        "print('item_description vectorization shape:', X_descp.shape)"
      ],
      "execution_count": null,
      "outputs": [
        {
          "output_type": "stream",
          "name": "stdout",
          "text": [
            "name vectorization shape: (1482535, 105757)\n",
            "item_description vectorization shape: (1482535, 50000)\n"
          ]
        }
      ]
    },
    {
      "cell_type": "code",
      "metadata": {
        "id": "05tQdVKHOQrX"
      },
      "source": [
        "from sklearn.preprocessing import LabelBinarizer\n",
        "\n",
        "# brand_name, item_condition_id, shipping 각 피처들을 희소 행렬 원-핫 인코딩 변환\n",
        "lb_brand_name = LabelBinarizer(sparse_output = True)\n",
        "X_brand = lb_brand_name.fit_transform(mercari_df['brand_name'])\n",
        "lb_item_cond_id =  LabelBinarizer(sparse_output = True)\n",
        "X_item_cond_id = lb_item_cond_id.fit_transform(mercari_df['item_condition_id'])\n",
        "lb_shipping = LabelBinarizer(sparse_output = True)\n",
        "X_shipping = lb_shipping.fit_transform(mercari_df['shipping'])\n",
        "\n",
        "# cat_dae, cat_jung, cat_so 각 피처들을 희소 행렬 원-핫 인코딩 변환\n",
        "lb_cat_dae = LabelBinarizer(sparse_output = True)\n",
        "X_cat_dae = lb_cat_dae.fit_transform(mercari_df['cat_dae'])\n",
        "lb_cat_jung = LabelBinarizer(sparse_output = True)\n",
        "X_cat_jung = lb_cat_jung.fit_transform(mercari_df['cat_jung'])\n",
        "lb_cat_so = LabelBinarizer(sparse_output = True)\n",
        "X_cat_so = lb_cat_so.fit_transform(mercari_df['cat_so'])"
      ],
      "execution_count": null,
      "outputs": []
    },
    {
      "cell_type": "code",
      "metadata": {
        "colab": {
          "base_uri": "https://localhost:8080/"
        },
        "id": "Rn-BbWV_OTZf",
        "outputId": "15e66e37-7247-46b6-cd90-926767235c56"
      },
      "source": [
        "# 제대로 변환되었는지 생성된 인코딩 데이터 세트 타입과 shape 확인\n",
        "print(type(X_brand), type(X_item_cond_id), type(X_shipping))\n",
        "print('X_brand_shape:{0}, X_item_cond_id shape:{1}'.format(X_brand.shape, X_item_cond_id.shape))\n",
        "print('X_shipping shape:{0}, X_cat_dae shape:{1}'.format(X_shipping.shape, X_cat_dae.shape))\n",
        "print('X_cat_jung shape:{0}, X_cat_so shape:{1}'.format(X_cat_jung.shape, X_cat_so.shape))"
      ],
      "execution_count": null,
      "outputs": [
        {
          "output_type": "stream",
          "name": "stdout",
          "text": [
            "<class 'scipy.sparse.csr.csr_matrix'> <class 'scipy.sparse.csr.csr_matrix'> <class 'scipy.sparse.csr.csr_matrix'>\n",
            "X_brand_shape:(1482535, 4810), X_item_cond_id shape:(1482535, 5)\n",
            "X_shipping shape:(1482535, 1), X_cat_dae shape:(1482535, 11)\n",
            "X_cat_jung shape:(1482535, 114), X_cat_so shape:(1482535, 871)\n"
          ]
        }
      ]
    },
    {
      "cell_type": "code",
      "metadata": {
        "colab": {
          "base_uri": "https://localhost:8080/"
        },
        "id": "y2eyRR04OU6I",
        "outputId": "361c8830-df6d-4113-ba82-be6d78026552"
      },
      "source": [
        "\n",
        "from scipy.sparse import hstack\n",
        "import gc\n",
        "\n",
        "sparse_matrix_list = (X_name, X_descp, X_brand, X_item_cond_id, \\\n",
        "                      X_shipping, X_cat_dae, X_cat_jung, X_cat_so)\n",
        "\n",
        "# hstack 함수를 이용해 인코딩과 벡터화를 수행한 데이터 세트를 모두 결합\n",
        "X_features_sparse = hstack(sparse_matrix_list).tocsr()\n",
        "print(type(X_features_sparse), X_features_sparse.shape)\n",
        "\n",
        "# 데이터 세트가 메모리를 많이 차지하므로 사용 목적이 끝났으면 바로 메모리에서 삭제\n",
        "del X_features_sparse\n",
        "gc.collect()"
      ],
      "execution_count": null,
      "outputs": [
        {
          "output_type": "stream",
          "name": "stdout",
          "text": [
            "<class 'scipy.sparse.csr.csr_matrix'> (1482535, 161569)\n"
          ]
        },
        {
          "output_type": "execute_result",
          "data": {
            "text/plain": [
              "323"
            ]
          },
          "metadata": {},
          "execution_count": 38
        }
      ]
    },
    {
      "cell_type": "code",
      "metadata": {
        "id": "1P7eksf6OWjl"
      },
      "source": [
        "def rmsle(y, y_pred):\n",
        "    # underflow, overflow를 막기 위해 log가 아닌 log1p로 rmsle 계산\n",
        "    return np.sqrt(np.mean(np.power(np.log1p(y) - np.log1p(y_pred), 2)))\n",
        "\n",
        "def evaluate_org_price(y_test, preds):\n",
        "    \n",
        "    # 원본 데이터는 log1p로 변환되었으므로 exmpm1로 원복 필요\n",
        "    preds_exmpm = np.expm1(preds)\n",
        "    y_test_exmpm = np.expm1(y_test)\n",
        "    \n",
        "    # rmsle로 RMSLE 값 추출\n",
        "    rmsle_result = rmsle(y_test_exmpm, preds_exmpm)\n",
        "    return rmsle_result"
      ],
      "execution_count": null,
      "outputs": []
    },
    {
      "cell_type": "code",
      "metadata": {
        "id": "zrjfcQE2OYA6"
      },
      "source": [
        "import gc\n",
        "from scipy.sparse import hstack\n",
        "\n",
        "def model_train_predict(model, matrix_list):\n",
        "    # scipy.sparse 모듈의 hstack을 이용해 희소 행렬 결합\n",
        "    X = hstack(matrix_list).tocsr()\n",
        "    \n",
        "    X_train, X_test, y_train, y_test = train_test_split(X, mercari_df['price'], test_size = 0.2, random_state = 156)\n",
        "    \n",
        "    # 모델 학습 및 예측\n",
        "    model.fit(X_train, y_train)\n",
        "    preds = model.predict(X_test)\n",
        "    \n",
        "    del X, X_train, X_test, y_train\n",
        "    gc.collect()\n",
        "    \n",
        "    return preds, y_test"
      ],
      "execution_count": null,
      "outputs": []
    },
    {
      "cell_type": "code",
      "metadata": {
        "colab": {
          "base_uri": "https://localhost:8080/"
        },
        "id": "WMO1DToIOZqk",
        "outputId": "fb82536e-e9a2-482a-cb73-baced0933dbf"
      },
      "source": [
        "\n",
        "linear_model = Ridge(solver = \"lsqr\", fit_intercept = False)\n",
        "\n",
        "sparse_matrix_list = (X_name, X_brand, X_item_cond_id, \\\n",
        "                      X_shipping, X_cat_dae, X_cat_jung, X_cat_so)\n",
        "linear_preds, y_test = model_train_predict(model = linear_model, matrix_list = sparse_matrix_list)\n",
        "print('Item Description을 제외햇을 때 rmsle 값 :', evaluate_org_price(y_test, linear_preds))\n",
        "\n",
        "sparse_matrix_list = (X_descp, X_name, X_brand, X_item_cond_id, \\\n",
        "                      X_shipping, X_cat_dae, X_cat_jung, X_cat_so)\n",
        "linear_preds, y_test = model_train_predict(model = linear_model, matrix_list = sparse_matrix_list)\n",
        "print('Item Description을 제외햇을 때 rmsle 값 :', evaluate_org_price(y_test, linear_preds))"
      ],
      "execution_count": null,
      "outputs": [
        {
          "output_type": "stream",
          "name": "stdout",
          "text": [
            "Item Description을 제외햇을 때 rmsle 값 : 0.5023727038010544\n",
            "Item Description을 제외햇을 때 rmsle 값 : 0.4712195143433641\n"
          ]
        }
      ]
    },
    {
      "cell_type": "code",
      "metadata": {
        "colab": {
          "base_uri": "https://localhost:8080/"
        },
        "id": "jgCpGX-ZObVn",
        "outputId": "c8bc8876-3b02-4603-9e88-c4f802c6b1a1"
      },
      "source": [
        "from lightgbm import LGBMRegressor\n",
        "\n",
        "sparse_matrix_list = (X_descp, X_name, X_brand, X_item_cond_id,\n",
        "                      X_shipping, X_cat_dae, X_cat_jung, X_cat_so)\n",
        "\n",
        "lgbm_model = LGBMRegressor(n_estimators = 200, learning_rate = 0.5, num_leaves = 125, random_state = 156)\n",
        "lgbm_preds, y_test = model_train_predict(model = lgbm_model, matrix_list = sparse_matrix_list)\n",
        "print('LightGBM rmsle 값:', evaluate_org_price(y_test, lgbm_preds))"
      ],
      "execution_count": null,
      "outputs": [
        {
          "output_type": "stream",
          "name": "stdout",
          "text": [
            "LightGBM rmsle 값: 0.45719580244261243\n"
          ]
        }
      ]
    },
    {
      "cell_type": "code",
      "metadata": {
        "colab": {
          "base_uri": "https://localhost:8080/"
        },
        "id": "dt3HKDGUOdBB",
        "outputId": "b7262252-de67-400f-c0ad-ffef80026af8"
      },
      "source": [
        "\n",
        "preds = lgbm_preds * 0.45 + linear_preds * 0.55    # 0.45와 0.55의 배합은 임의로 산정 \n",
        "print('LightGBM과 Ridge를 ensemble한 최종 rmsle 값:', evaluate_org_price(y_test, preds))"
      ],
      "execution_count": null,
      "outputs": [
        {
          "output_type": "stream",
          "name": "stdout",
          "text": [
            "LightGBM과 Ridge를 ensemble한 최종 rmsle 값: 0.4507259214329315\n"
          ]
        }
      ]
    }
  ]
}